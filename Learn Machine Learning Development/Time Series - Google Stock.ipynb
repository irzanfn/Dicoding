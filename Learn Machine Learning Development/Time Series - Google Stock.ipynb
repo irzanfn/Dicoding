{
  "nbformat": 4,
  "nbformat_minor": 0,
  "metadata": {
    "colab": {
      "name": "Time series_Irzan.ipynb",
      "provenance": [],
      "collapsed_sections": []
    },
    "kernelspec": {
      "name": "python3",
      "display_name": "Python 3"
    },
    "language_info": {
      "name": "python"
    },
    "accelerator": "GPU"
  },
  "cells": [
    {
      "cell_type": "markdown",
      "metadata": {
        "id": "rJZ0eaJf_wMm"
      },
      "source": [
        "# Google Stock Time Series\n",
        "# Irzan Fajari Nurahmadan"
      ]
    },
    {
      "cell_type": "markdown",
      "metadata": {
        "id": "ZM9NmsL0_4Lo"
      },
      "source": [
        "# Import Library"
      ]
    },
    {
      "cell_type": "code",
      "metadata": {
        "colab": {
          "base_uri": "https://localhost:8080/"
        },
        "id": "RQJUBUBmEQum",
        "outputId": "39bf9e05-39f8-4f83-eeca-80d499fc8df5"
      },
      "source": [
        "from google.colab import drive\n",
        "drive.mount('/content/drive/')"
      ],
      "execution_count": null,
      "outputs": [
        {
          "output_type": "stream",
          "text": [
            "Mounted at /content/drive/\n"
          ],
          "name": "stdout"
        }
      ]
    },
    {
      "cell_type": "code",
      "metadata": {
        "id": "V83hLZpkEb1T"
      },
      "source": [
        "import pandas as pd\n",
        "import numpy as np\n",
        "import string\n",
        "import matplotlib.pyplot as plt\n",
        "import tensorflow as tf\n",
        "from tensorflow.keras import Sequential\n",
        "from tensorflow.keras.layers import Dense,Embedding,LSTM, Dropout\n",
        "from sklearn.model_selection import train_test_split\n",
        "from sklearn.preprocessing import StandardScaler"
      ],
      "execution_count": null,
      "outputs": []
    },
    {
      "cell_type": "markdown",
      "metadata": {
        "id": "5Ogf5Q99_6TN"
      },
      "source": [
        "# Import Dataset"
      ]
    },
    {
      "cell_type": "code",
      "metadata": {
        "id": "mS3tLkALEi4T"
      },
      "source": [
        "df = pd.read_csv('/content/drive/My Drive/dataset/GOOGL.csv', index_col='Date', parse_dates=['Date'])"
      ],
      "execution_count": null,
      "outputs": []
    },
    {
      "cell_type": "code",
      "metadata": {
        "colab": {
          "base_uri": "https://localhost:8080/",
          "height": 238
        },
        "id": "OJ7vqIfUEuGe",
        "outputId": "e9fb14ef-7023-4628-d0c8-43b3de845e3f"
      },
      "source": [
        "df.head()"
      ],
      "execution_count": null,
      "outputs": [
        {
          "output_type": "execute_result",
          "data": {
            "text/html": [
              "<div>\n",
              "<style scoped>\n",
              "    .dataframe tbody tr th:only-of-type {\n",
              "        vertical-align: middle;\n",
              "    }\n",
              "\n",
              "    .dataframe tbody tr th {\n",
              "        vertical-align: top;\n",
              "    }\n",
              "\n",
              "    .dataframe thead th {\n",
              "        text-align: right;\n",
              "    }\n",
              "</style>\n",
              "<table border=\"1\" class=\"dataframe\">\n",
              "  <thead>\n",
              "    <tr style=\"text-align: right;\">\n",
              "      <th></th>\n",
              "      <th>Open</th>\n",
              "      <th>High</th>\n",
              "      <th>Low</th>\n",
              "      <th>Close</th>\n",
              "      <th>Volume</th>\n",
              "      <th>Name</th>\n",
              "    </tr>\n",
              "    <tr>\n",
              "      <th>Date</th>\n",
              "      <th></th>\n",
              "      <th></th>\n",
              "      <th></th>\n",
              "      <th></th>\n",
              "      <th></th>\n",
              "      <th></th>\n",
              "    </tr>\n",
              "  </thead>\n",
              "  <tbody>\n",
              "    <tr>\n",
              "      <th>2006-01-03</th>\n",
              "      <td>211.47</td>\n",
              "      <td>218.05</td>\n",
              "      <td>209.32</td>\n",
              "      <td>217.83</td>\n",
              "      <td>13137450</td>\n",
              "      <td>GOOGL</td>\n",
              "    </tr>\n",
              "    <tr>\n",
              "      <th>2006-01-04</th>\n",
              "      <td>222.17</td>\n",
              "      <td>224.70</td>\n",
              "      <td>220.09</td>\n",
              "      <td>222.84</td>\n",
              "      <td>15292353</td>\n",
              "      <td>GOOGL</td>\n",
              "    </tr>\n",
              "    <tr>\n",
              "      <th>2006-01-05</th>\n",
              "      <td>223.22</td>\n",
              "      <td>226.00</td>\n",
              "      <td>220.97</td>\n",
              "      <td>225.85</td>\n",
              "      <td>10815661</td>\n",
              "      <td>GOOGL</td>\n",
              "    </tr>\n",
              "    <tr>\n",
              "      <th>2006-01-06</th>\n",
              "      <td>228.66</td>\n",
              "      <td>235.49</td>\n",
              "      <td>226.85</td>\n",
              "      <td>233.06</td>\n",
              "      <td>17759521</td>\n",
              "      <td>GOOGL</td>\n",
              "    </tr>\n",
              "    <tr>\n",
              "      <th>2006-01-09</th>\n",
              "      <td>233.44</td>\n",
              "      <td>236.94</td>\n",
              "      <td>230.70</td>\n",
              "      <td>233.68</td>\n",
              "      <td>12795837</td>\n",
              "      <td>GOOGL</td>\n",
              "    </tr>\n",
              "  </tbody>\n",
              "</table>\n",
              "</div>"
            ],
            "text/plain": [
              "              Open    High     Low   Close    Volume   Name\n",
              "Date                                                       \n",
              "2006-01-03  211.47  218.05  209.32  217.83  13137450  GOOGL\n",
              "2006-01-04  222.17  224.70  220.09  222.84  15292353  GOOGL\n",
              "2006-01-05  223.22  226.00  220.97  225.85  10815661  GOOGL\n",
              "2006-01-06  228.66  235.49  226.85  233.06  17759521  GOOGL\n",
              "2006-01-09  233.44  236.94  230.70  233.68  12795837  GOOGL"
            ]
          },
          "metadata": {
            "tags": []
          },
          "execution_count": 11
        }
      ]
    },
    {
      "cell_type": "markdown",
      "metadata": {
        "id": "MdDE00qY_9Wd"
      },
      "source": [
        "# Data Preprocessing"
      ]
    },
    {
      "cell_type": "code",
      "metadata": {
        "id": "dzRwKaKGFXT6"
      },
      "source": [
        "df = df.drop(['Open','Low','Close','Volume','Name'],axis=1)"
      ],
      "execution_count": null,
      "outputs": []
    },
    {
      "cell_type": "markdown",
      "metadata": {
        "id": "klhf5lK4__sU"
      },
      "source": [
        "# Split Data"
      ]
    },
    {
      "cell_type": "code",
      "metadata": {
        "id": "B4Vt2yKwSLDc"
      },
      "source": [
        "Train, Test = train_test_split(df, test_size=0.2, shuffle = False)"
      ],
      "execution_count": null,
      "outputs": []
    },
    {
      "cell_type": "code",
      "metadata": {
        "colab": {
          "base_uri": "https://localhost:8080/",
          "height": 285
        },
        "id": "LSJYX98XFwD2",
        "outputId": "14388bd0-520d-4d51-a496-b3b593792d37"
      },
      "source": [
        "Train[\"High\"].plot(figsize=(16,4),legend=True)\n",
        "Test[\"High\"].plot(figsize=(16,4),legend=True)\n",
        "plt.title('Google stock price')\n",
        "plt.show()"
      ],
      "execution_count": null,
      "outputs": [
        {
          "output_type": "display_data",
          "data": {
            "image/png": "[encoded data removed]",
            "text/plain": [
              "<Figure size 1152x288 with 1 Axes>"
            ]
          },
          "metadata": {
            "tags": [],
            "needs_background": "light"
          }
        }
      ]
    },
    {
      "cell_type": "markdown",
      "metadata": {
        "id": "3ahpsnfHAC33"
      },
      "source": [
        "# Data Normalization Using MinMaxScaler"
      ]
    },
    {
      "cell_type": "code",
      "metadata": {
        "id": "2pwNOjKES0x-"
      },
      "source": [
        "from sklearn.preprocessing import MinMaxScaler\n",
        "sc = MinMaxScaler(feature_range=(0,1))\n",
        "training_set_scaled = sc.fit_transform(Train)"
      ],
      "execution_count": null,
      "outputs": []
    },
    {
      "cell_type": "code",
      "metadata": {
        "colab": {
          "base_uri": "https://localhost:8080/"
        },
        "id": "oWLFiRgXS_CZ",
        "outputId": "df6eee2f-1500-4b47-a4c3-68fe751bc79f"
      },
      "source": [
        "training_set_scaled.shape"
      ],
      "execution_count": null,
      "outputs": [
        {
          "output_type": "execute_result",
          "data": {
            "text/plain": [
              "(2415, 1)"
            ]
          },
          "metadata": {
            "tags": []
          },
          "execution_count": 18
        }
      ]
    },
    {
      "cell_type": "markdown",
      "metadata": {
        "id": "TNvPnbJOAHa1"
      },
      "source": [
        "# Creating Time Series Dataset"
      ]
    },
    {
      "cell_type": "code",
      "metadata": {
        "id": "tIQwjv9qTIlv"
      },
      "source": [
        "# Since LSTMs store long term memory state, we create a data structure with 60 timesteps and 1 output\n",
        "# So for each element of training set, we have 60 previous training set elements \n",
        "X_train = []\n",
        "y_train = []\n",
        "for i in range(60,2415):\n",
        "    X_train.append(training_set_scaled[i-60:i,0])\n",
        "    y_train.append(training_set_scaled[i,0])\n",
        "X_train, y_train = np.array(X_train), np.array(y_train)"
      ],
      "execution_count": null,
      "outputs": []
    },
    {
      "cell_type": "code",
      "metadata": {
        "id": "yK2TThXbTNKG"
      },
      "source": [
        "# Reshaping X_train for efficient modelling\n",
        "X_train = np.reshape(X_train, (X_train.shape[0],X_train.shape[1],1))"
      ],
      "execution_count": null,
      "outputs": []
    },
    {
      "cell_type": "code",
      "metadata": {
        "id": "QBI9FAF0Txdn"
      },
      "source": [
        "test_set_scaled = sc.transform(Test)"
      ],
      "execution_count": null,
      "outputs": []
    },
    {
      "cell_type": "code",
      "metadata": {
        "colab": {
          "base_uri": "https://localhost:8080/"
        },
        "id": "rfquKK57UEoQ",
        "outputId": "e414e3ad-9afb-4c5e-99d5-76b583847c12"
      },
      "source": [
        "test_set_scaled.shape"
      ],
      "execution_count": null,
      "outputs": [
        {
          "output_type": "execute_result",
          "data": {
            "text/plain": [
              "(604, 1)"
            ]
          },
          "metadata": {
            "tags": []
          },
          "execution_count": 22
        }
      ]
    },
    {
      "cell_type": "code",
      "metadata": {
        "id": "4XIw117xUHdZ"
      },
      "source": [
        "X_test = []\n",
        "y_test = []\n",
        "for i in range(60,604):\n",
        "    X_test.append(test_set_scaled[i-60:i,0])\n",
        "    y_test.append(training_set_scaled[i,0])\n",
        "X_test, y_test = np.array(X_test), np.array(y_test)\n",
        "X_test = np.reshape(X_test, (X_test.shape[0],X_test.shape[1],1))"
      ],
      "execution_count": null,
      "outputs": []
    },
    {
      "cell_type": "markdown",
      "metadata": {
        "id": "snvmvCaSAL4S"
      },
      "source": [
        "# Make LSTM Based Model"
      ]
    },
    {
      "cell_type": "code",
      "metadata": {
        "id": "4mdkdK-yGmTK"
      },
      "source": [
        "# The LSTM architecture\n",
        "regressor = Sequential()\n",
        "# First LSTM layer with Dropout regularisation\n",
        "regressor.add(LSTM(units=60, return_sequences=True, input_shape=(X_train.shape[1],1)))\n",
        "regressor.add(Dropout(0.2))\n",
        "# Second LSTM layer\n",
        "regressor.add(LSTM(units=50, return_sequences=True))\n",
        "regressor.add(Dropout(0.2))\n",
        "# Third LSTM layer\n",
        "regressor.add(LSTM(units=50, return_sequences=True))\n",
        "regressor.add(Dropout(0.2))\n",
        "# The output layer\n",
        "regressor.add(Dense(units=1))"
      ],
      "execution_count": null,
      "outputs": []
    },
    {
      "cell_type": "markdown",
      "metadata": {
        "id": "sqg21afoAPRU"
      },
      "source": [
        "# Callback To Control Training"
      ]
    },
    {
      "cell_type": "code",
      "metadata": {
        "id": "iZWtuAG2Vp9G"
      },
      "source": [
        "Callback = tf.keras.callbacks.EarlyStopping(monitor='val_loss', patience=1, mode='min')"
      ],
      "execution_count": null,
      "outputs": []
    },
    {
      "cell_type": "markdown",
      "metadata": {
        "id": "GqAbabV7ASoi"
      },
      "source": [
        "# Training The LSTM Model"
      ]
    },
    {
      "cell_type": "code",
      "metadata": {
        "colab": {
          "base_uri": "https://localhost:8080/"
        },
        "id": "DPzEnwUfUnQt",
        "outputId": "fc9ac595-59b7-419b-ec9b-fec795d68dc4"
      },
      "source": [
        "optimizer = tf.keras.optimizers.SGD(learning_rate=0.0001, momentum=0.6)\n",
        "regressor.compile(loss=tf.keras.losses.Huber(),\n",
        "              optimizer=optimizer,\n",
        "              metrics=[\"mae\"])\n",
        "history = regressor.fit(X_train,y_train,validation_data=(X_test,y_test), epochs=100, batch_size=20,callbacks=Callback)"
      ],
      "execution_count": null,
      "outputs": [
        {
          "output_type": "stream",
          "text": [
            "Epoch 1/100\n",
            "118/118 [==============================] - 12s 57ms/step - loss: 0.0795 - mae: 0.3281 - val_loss: 0.0145 - val_mae: 0.1524\n",
            "Epoch 2/100\n",
            "118/118 [==============================] - 6s 48ms/step - loss: 0.0650 - mae: 0.2834 - val_loss: 0.0084 - val_mae: 0.1046\n",
            "Epoch 3/100\n",
            "118/118 [==============================] - 6s 48ms/step - loss: 0.0545 - mae: 0.2483 - val_loss: 0.0051 - val_mae: 0.0755\n",
            "Epoch 4/100\n",
            "118/118 [==============================] - 6s 47ms/step - loss: 0.0467 - mae: 0.2215 - val_loss: 0.0037 - val_mae: 0.0637\n",
            "Epoch 5/100\n",
            "118/118 [==============================] - 6s 48ms/step - loss: 0.0409 - mae: 0.2021 - val_loss: 0.0036 - val_mae: 0.0672\n",
            "Epoch 6/100\n",
            "118/118 [==============================] - 6s 48ms/step - loss: 0.0367 - mae: 0.1885 - val_loss: 0.0043 - val_mae: 0.0784\n"
          ],
          "name": "stdout"
        }
      ]
    },
    {
      "cell_type": "markdown",
      "metadata": {
        "id": "lebFLSWSAXci"
      },
      "source": [
        "# Plotting Train History of LSTM Model"
      ]
    },
    {
      "cell_type": "code",
      "metadata": {
        "id": "MWkaJ76_XHJe"
      },
      "source": [
        "def graph(history):\n",
        "    fig, ax = plt.subplots(1, 2, figsize=(15,5))\n",
        "    ax[0].set_title('loss')\n",
        "    ax[0].plot(history.epoch, history.history[\"loss\"], label=\"Train loss\")\n",
        "    ax[0].plot(history.epoch, history.history[\"val_loss\"], label=\"Validation loss\")\n",
        "    ax[1].set_title('mae')\n",
        "    ax[1].plot(history.epoch, history.history[\"mae\"], label=\"Train mae\")\n",
        "    ax[1].plot(history.epoch, history.history[\"val_mae\"], label=\"Validation mae\")\n",
        "    ax[0].legend()\n",
        "    ax[1].legend()"
      ],
      "execution_count": null,
      "outputs": []
    },
    {
      "cell_type": "code",
      "metadata": {
        "colab": {
          "base_uri": "https://localhost:8080/",
          "height": 336
        },
        "id": "nQ5mYmcEXhWu",
        "outputId": "70d40b36-2e67-432b-bad3-c48ebaf8f372"
      },
      "source": [
        "graph(history)"
      ],
      "execution_count": null,
      "outputs": [
        {
          "output_type": "display_data",
          "data": {
            "image/png": "[encoded data removed]",
            "text/plain": [
              "<Figure size 1080x360 with 2 Axes>"
            ]
          },
          "metadata": {
            "tags": [],
            "needs_background": "light"
          }
        }
      ]
    }
  ]
}